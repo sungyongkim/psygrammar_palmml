{
 "cells": [
  {
   "cell_type": "markdown",
   "metadata": {},
   "source": [
    "### Key Reference\n",
    "---\n",
    "- notebook : https://www.kaggle.com/wei10117/titanic-machine-learning-from-disaster/notebook\n",
    "- code : https://www.kaggle.com/wei10117/titanic-machine-learning-from-disaster/code\n",
    "- data : https://www.kaggle.com/wei10117/titanic-machine-learning-from-disaster/data\n",
    "    "
   ]
  },
  {
   "cell_type": "markdown",
   "metadata": {},
   "source": [
    "### Key Activity\n",
    "\n",
    "---"
   ]
  },
  {
   "cell_type": "markdown",
   "metadata": {},
   "source": [
    "#### 노트북을 다운로드 받자"
   ]
  },
  {
   "cell_type": "markdown",
   "metadata": {},
   "source": [
    "- https://www.kaggle.com/wei10117/titanic-machine-learning-from-disaster/code\n",
    "- 'download code' 버튼 클릭. \n",
    "- '__notebook__.ipynb'파일을 다운로드 받는다.\n",
    "- 위 파일을 현재 폴더로 옮겨온다\n"
   ]
  },
  {
   "cell_type": "markdown",
   "metadata": {},
   "source": [
    "#### data를 다운로드 받자."
   ]
  },
  {
   "cell_type": "code",
   "execution_count": 140,
   "metadata": {
    "scrolled": true
   },
   "outputs": [],
   "source": [
    "import wget\n",
    "url = [\n",
    "    \"https://storage.googleapis.com/kaggle-competitions-data/kaggle/3136/gender_submission.csv?GoogleAccessId=competitions-data@kaggle-161607.iam.gserviceaccount.com&Expires=1510903672&Signature=ksSfeyLgZk3iheQrT%2F9RMXPyDyMOA5fr%2BizMBe1ARe8M2761t9NLvBIc0HFusqb17oYA%2FAGl%2BYRYhJNt0zDsEX4cNwvYs5yhB98x0xBlHoV5Xwi%2BR4D6kLXPCbKmsHXrxP8BViPM5ZWmQCu1fXjmyABoPdCbYbimGWdeu7bXNhsHFV3vaRYOEuSpK7pjNA3i7jqSlfnp8d741avzgpz88QInWV2VARi1BgvDFidWeX3ypwgfCISwqII7WpOC6fg%2BLLWDfQ7Paq0%2BoCNmRO0hcLHTggS8bec1jJ4wzEbvJxALJQsuI86MUOMs7k%2BawR8MBxbSLWz4A%2FEDGOTo6FIPrw%3D%3D\",\n",
    "    \"https://storage.googleapis.com/kaggle-competitions-data/kaggle/3136/test.csv?GoogleAccessId=competitions-data@kaggle-161607.iam.gserviceaccount.com&Expires=1510903879&Signature=G2HzwOLDbl0NJjutuY3pTQubJFPBL2qsvA3LaLOoBd88l%2BtXwpkn%2FghcHnguW06g6Tvsx8ZxeNX20Qn6aUe7jcCeSkcfpEdX6q4wNYwdSEy4%2BGgZS49Pyuh6aU4QkocViHAbJ5BvbTfBCFGeHdU%2B%2Fu9gNXYN657IO04Wci2wGlKebWtVyDlpHOOs4NGhW5RKhyakbItpBKHkF5gCJgkTEpEtsBsUAAy%2FeVn58nnLMtvnuyNzn%2BcP4PKgF2AnygAwBxWYDTFfhMNQoh2XsK77kJVwtgRR4Egn7f5laCrREq5P38uxw%2F2LXVPWBfNWh9q86KXw0gjXmLiRQwbqNXxQow%3D%3D\",\n",
    "    \"https://storage.googleapis.com/kaggle-competitions-data/kaggle/3136/train.csv?GoogleAccessId=competitions-data@kaggle-161607.iam.gserviceaccount.com&Expires=1510903943&Signature=WhUSOK9MVjfRwuUqf0EWnWIF7KEMLr1WRTl6zUNS3L0ZzHWqcNZCFN%2F%2BqcxA%2F9oEwt6lXiIryoo5GEixiAgz5dSx3PKsFvk0lPKTechDpiWv%2BI5w7JmJin1Sz%2F6M9%2BZasCVGLREMUtd6sHaqYSkp%2BoIkZygV8z%2BjaQJxpVoX0Lkl5531Wr%2B4L9KPJ5YOtg3MfRBFS3eBShHj3I%2F%2F2JkEXJTd9hY5ootBh%2FZ8RXPf9kr61IL93hzn9WpuavjETTc2eboQE8zp58aYYwxKAOw3h%2BQWNrU0QT2%2F%2Bs%2FXk9GZt72plme1IU1IL9ADVb9pEIn2GIaU0x9lWTbkJXsf2G3G4g%3D%3D\"\n",
    "      ]\n",
    "for i in url:\n",
    "    wget.download(i)\n",
    "\n",
    "import os\n",
    "for subdir, dirs, files in os.walk('data'):\n",
    "    for file in files:\n",
    "        if '.csv' in file:\n",
    "            print (file)"
   ]
  },
  {
   "cell_type": "markdown",
   "metadata": {},
   "source": [
    "#### 다운로드 받은 data 정보를 확인해보자.\n",
    "https://www.kaggle.com/wei10117/titanic-machine-learning-from-disaster/data\n",
    "\n",
    "### Overview\n",
    "\n",
    "The data has been split into two groups:\n",
    "\n",
    "- training set (train.csv)\n",
    "- test set (test.csv)\n",
    "\n",
    "**The training set **should be used to build your machine learning models. For the training set, we provide the outcome (also known as the “ground truth”) for each passenger. Your model will be based on “features” like passengers’ gender and class. You can also use feature engineering to create new features.\n",
    "\n",
    "**The test set **should be used to see how well your model performs on unseen data. For the test set, we do not provide the ground truth for each passenger. It is your job to predict these outcomes. For each passenger in the test set, use the model you trained to predict whether or not they survived the sinking of the Titanic.\n",
    "\n",
    "We also include **gender_submission.csv**, a set of predictions that assume all and only female passengers survive, as an example of what a submission file should look like.\n",
    "\n",
    "### Data Dictionary\n",
    "\n",
    "Variable\n",
    "\n",
    "Definition\n",
    "\n",
    "Key\n",
    "\n",
    " survival Survival 0 = No, 1 = Yes pclass Ticket class 1 = 1st, 2 = 2nd, 3 = 3rd sex Sex Age Age in years sibsp # of siblings / spouses aboard the Titanic parch # of parents / children aboard the Titanic ticket Ticket number fare Passenger fare cabin Cabin number embarked Port of Embarkation C = Cherbourg, Q = Queenstown, S = Southampton\n",
    "\n",
    "### Variable Notes\n",
    "\n",
    "**pclass**: A proxy for socio-economic status (SES)\n",
    "1st = Upper\n",
    "2nd = Middle\n",
    "3rd = Lower\n",
    "**age**: Age is fractional if less than 1. If the age is estimated, is it in the form of xx.5\n",
    "**sibsp**: The dataset defines family relations in this way...\n",
    "Sibling = brother, sister, stepbrother, stepsister\n",
    "Spouse = husband, wife (mistresses and fiancés were ignored)\n",
    "**parch**: The dataset defines family relations in this way...\n",
    "Parent = mother, father\n",
    "Child = daughter, son, stepdaughter, stepson\n",
    "Some children travelled only with a nanny, therefore parch=0 for them."
   ]
  },
  {
   "cell_type": "code",
   "execution_count": null,
   "metadata": {
    "collapsed": true
   },
   "outputs": [],
   "source": []
  },
  {
   "cell_type": "markdown",
   "metadata": {},
   "source": [
    "#### 다운로드 받은 '__notebook__'을 열어보자\n"
   ]
  },
  {
   "cell_type": "markdown",
   "metadata": {
    "_cell_guid": "b29fdb6d-5f1c-0b57-640a-311fe21a72b8"
   },
   "source": [
    "# **Titanic: Machine Learning from Disaster**\n",
    "\n",
    "The notebook is about predicting the Titanic Survivors with basic Machine Learning process in Python. It's also my first Kaggle Challenge. I am still working on improving the accuracy of my model. Please feel free to give me some feedback.\n",
    "\n",
    "# **content**\n",
    "**1. Introduction**\n",
    "   \n",
    "1.1 Understanding the Problem  \n",
    "1.2 Goal and Metric  \n",
    "1.3 Exploring the Data \n",
    "\n",
    "**2. Data Cleaning**\n",
    "\n",
    "**3. Model and Prediction**"
   ]
  },
  {
   "cell_type": "markdown",
   "metadata": {
    "_cell_guid": "75dfde7a-a980-70ce-3ee2-246db662c61b"
   },
   "source": [
    "# 1. Introduction\n",
    "\n",
    "## 1.1 Problem Understanding  \n",
    "The sinking of the RMS Titanic is one of the most infamous shipwrecks in history.  On April 15, 1912, during her maiden voyage, the Titanic sank after colliding with an iceberg, killing 1502 out of 2224 passengers and crew. This sensational tragedy shocked the international community and led to better safety regulations for ships.\n",
    "\n",
    "One of the reasons that the shipwreck led to such loss of life was that there were not enough lifeboats for the passengers and crew. Although there was some element of luck involved in surviving the sinking, some groups of people were more likely to survive than others, such as women, children, and the upper-class.\n",
    "\n",
    "<u/>**the challenge is to complete the analysis of what sorts of people were likely to survive and to apply the tools of machine learning to predict which passengers survived the tragedy.**</u>\n",
    "\n",
    "## 1.2 Goal and Metric\n",
    "\n",
    " - Goal: To predict if a passenger survived the sinking of the Titanic or not. \n",
    "  - 사망자 데이터 분석을 통하여, 전체 승객 중, 누가 사망하거나 생존했는지 맞추자는 것인가?\n",
    " - Metric: Accuracy, The percentage of passengers the model correctly predict. \n",
    "  - 정확도와 승객의 백분율 모델이 바르게 예측하기 위한.\n",
    "\n",
    "## 1.3 Exploring the Data "
   ]
  },
  {
   "cell_type": "code",
   "execution_count": 169,
   "metadata": {
    "_cell_guid": "58e3e546-88b8-5e74-5051-c2a6d2ef6996"
   },
   "outputs": [
    {
     "name": "stdout",
     "output_type": "stream",
     "text": [
      "<class 'pandas.core.frame.DataFrame'>\n",
      "RangeIndex: 891 entries, 0 to 890\n",
      "Data columns (total 12 columns):\n",
      "PassengerId    891 non-null int64\n",
      "Survived       891 non-null int64\n",
      "Pclass         891 non-null int64\n",
      "Name           891 non-null object\n",
      "Sex            891 non-null object\n",
      "Age            714 non-null float64\n",
      "SibSp          891 non-null int64\n",
      "Parch          891 non-null int64\n",
      "Ticket         891 non-null object\n",
      "Fare           891 non-null float64\n",
      "Cabin          204 non-null object\n",
      "Embarked       889 non-null object\n",
      "dtypes: float64(2), int64(5), object(5)\n",
      "memory usage: 83.6+ KB\n"
     ]
    }
   ],
   "source": [
    "import warnings\n",
    "warnings.filterwarnings('ignore')\n",
    "\n",
    "import pandas as pd \n",
    "import numpy as np\n",
    "import matplotlib.pyplot as plt\n",
    "import seaborn as sns\n",
    "%matplotlib inline\n",
    "train = pd.read_csv('train.csv')\n",
    "test = pd.read_csv('test.csv')\n",
    "train.info()"
   ]
  },
  {
   "cell_type": "code",
   "execution_count": 142,
   "metadata": {
    "_cell_guid": "508aaa37-1a92-7bde-6834-4b5fd0b03ffc"
   },
   "outputs": [
    {
     "data": {
      "text/html": [
       "<div>\n",
       "<style>\n",
       "    .dataframe thead tr:only-child th {\n",
       "        text-align: right;\n",
       "    }\n",
       "\n",
       "    .dataframe thead th {\n",
       "        text-align: left;\n",
       "    }\n",
       "\n",
       "    .dataframe tbody tr th {\n",
       "        vertical-align: top;\n",
       "    }\n",
       "</style>\n",
       "<table border=\"1\" class=\"dataframe\">\n",
       "  <thead>\n",
       "    <tr style=\"text-align: right;\">\n",
       "      <th></th>\n",
       "      <th>PassengerId</th>\n",
       "      <th>Survived</th>\n",
       "      <th>Pclass</th>\n",
       "      <th>Age</th>\n",
       "      <th>SibSp</th>\n",
       "      <th>Parch</th>\n",
       "      <th>Fare</th>\n",
       "    </tr>\n",
       "  </thead>\n",
       "  <tbody>\n",
       "    <tr>\n",
       "      <th>count</th>\n",
       "      <td>891.000000</td>\n",
       "      <td>891.000000</td>\n",
       "      <td>891.000000</td>\n",
       "      <td>714.000000</td>\n",
       "      <td>891.000000</td>\n",
       "      <td>891.000000</td>\n",
       "      <td>891.000000</td>\n",
       "    </tr>\n",
       "    <tr>\n",
       "      <th>mean</th>\n",
       "      <td>446.000000</td>\n",
       "      <td>0.383838</td>\n",
       "      <td>2.308642</td>\n",
       "      <td>29.699118</td>\n",
       "      <td>0.523008</td>\n",
       "      <td>0.381594</td>\n",
       "      <td>32.204208</td>\n",
       "    </tr>\n",
       "    <tr>\n",
       "      <th>std</th>\n",
       "      <td>257.353842</td>\n",
       "      <td>0.486592</td>\n",
       "      <td>0.836071</td>\n",
       "      <td>14.526497</td>\n",
       "      <td>1.102743</td>\n",
       "      <td>0.806057</td>\n",
       "      <td>49.693429</td>\n",
       "    </tr>\n",
       "    <tr>\n",
       "      <th>min</th>\n",
       "      <td>1.000000</td>\n",
       "      <td>0.000000</td>\n",
       "      <td>1.000000</td>\n",
       "      <td>0.420000</td>\n",
       "      <td>0.000000</td>\n",
       "      <td>0.000000</td>\n",
       "      <td>0.000000</td>\n",
       "    </tr>\n",
       "    <tr>\n",
       "      <th>25%</th>\n",
       "      <td>223.500000</td>\n",
       "      <td>0.000000</td>\n",
       "      <td>2.000000</td>\n",
       "      <td>20.125000</td>\n",
       "      <td>0.000000</td>\n",
       "      <td>0.000000</td>\n",
       "      <td>7.910400</td>\n",
       "    </tr>\n",
       "    <tr>\n",
       "      <th>50%</th>\n",
       "      <td>446.000000</td>\n",
       "      <td>0.000000</td>\n",
       "      <td>3.000000</td>\n",
       "      <td>28.000000</td>\n",
       "      <td>0.000000</td>\n",
       "      <td>0.000000</td>\n",
       "      <td>14.454200</td>\n",
       "    </tr>\n",
       "    <tr>\n",
       "      <th>75%</th>\n",
       "      <td>668.500000</td>\n",
       "      <td>1.000000</td>\n",
       "      <td>3.000000</td>\n",
       "      <td>38.000000</td>\n",
       "      <td>1.000000</td>\n",
       "      <td>0.000000</td>\n",
       "      <td>31.000000</td>\n",
       "    </tr>\n",
       "    <tr>\n",
       "      <th>max</th>\n",
       "      <td>891.000000</td>\n",
       "      <td>1.000000</td>\n",
       "      <td>3.000000</td>\n",
       "      <td>80.000000</td>\n",
       "      <td>8.000000</td>\n",
       "      <td>6.000000</td>\n",
       "      <td>512.329200</td>\n",
       "    </tr>\n",
       "  </tbody>\n",
       "</table>\n",
       "</div>"
      ],
      "text/plain": [
       "       PassengerId    Survived      Pclass         Age       SibSp  \\\n",
       "count   891.000000  891.000000  891.000000  714.000000  891.000000   \n",
       "mean    446.000000    0.383838    2.308642   29.699118    0.523008   \n",
       "std     257.353842    0.486592    0.836071   14.526497    1.102743   \n",
       "min       1.000000    0.000000    1.000000    0.420000    0.000000   \n",
       "25%     223.500000    0.000000    2.000000   20.125000    0.000000   \n",
       "50%     446.000000    0.000000    3.000000   28.000000    0.000000   \n",
       "75%     668.500000    1.000000    3.000000   38.000000    1.000000   \n",
       "max     891.000000    1.000000    3.000000   80.000000    8.000000   \n",
       "\n",
       "            Parch        Fare  \n",
       "count  891.000000  891.000000  \n",
       "mean     0.381594   32.204208  \n",
       "std      0.806057   49.693429  \n",
       "min      0.000000    0.000000  \n",
       "25%      0.000000    7.910400  \n",
       "50%      0.000000   14.454200  \n",
       "75%      0.000000   31.000000  \n",
       "max      6.000000  512.329200  "
      ]
     },
     "execution_count": 142,
     "metadata": {},
     "output_type": "execute_result"
    }
   ],
   "source": [
    "train.describe() #기술통계를 뽑아보자."
   ]
  },
  {
   "cell_type": "code",
   "execution_count": 143,
   "metadata": {
    "scrolled": true
   },
   "outputs": [
    {
     "data": {
      "text/html": [
       "<div>\n",
       "<style>\n",
       "    .dataframe thead tr:only-child th {\n",
       "        text-align: right;\n",
       "    }\n",
       "\n",
       "    .dataframe thead th {\n",
       "        text-align: left;\n",
       "    }\n",
       "\n",
       "    .dataframe tbody tr th {\n",
       "        vertical-align: top;\n",
       "    }\n",
       "</style>\n",
       "<table border=\"1\" class=\"dataframe\">\n",
       "  <thead>\n",
       "    <tr style=\"text-align: right;\">\n",
       "      <th></th>\n",
       "      <th>PassengerId</th>\n",
       "      <th>Survived</th>\n",
       "      <th>Pclass</th>\n",
       "      <th>Name</th>\n",
       "      <th>Sex</th>\n",
       "      <th>Age</th>\n",
       "      <th>SibSp</th>\n",
       "      <th>Parch</th>\n",
       "      <th>Ticket</th>\n",
       "      <th>Fare</th>\n",
       "      <th>Cabin</th>\n",
       "      <th>Embarked</th>\n",
       "    </tr>\n",
       "  </thead>\n",
       "  <tbody>\n",
       "    <tr>\n",
       "      <th>0</th>\n",
       "      <td>1</td>\n",
       "      <td>0</td>\n",
       "      <td>3</td>\n",
       "      <td>Braund, Mr. Owen Harris</td>\n",
       "      <td>male</td>\n",
       "      <td>22.0</td>\n",
       "      <td>1</td>\n",
       "      <td>0</td>\n",
       "      <td>A/5 21171</td>\n",
       "      <td>7.2500</td>\n",
       "      <td>NaN</td>\n",
       "      <td>S</td>\n",
       "    </tr>\n",
       "    <tr>\n",
       "      <th>1</th>\n",
       "      <td>2</td>\n",
       "      <td>1</td>\n",
       "      <td>1</td>\n",
       "      <td>Cumings, Mrs. John Bradley (Florence Briggs Th...</td>\n",
       "      <td>female</td>\n",
       "      <td>38.0</td>\n",
       "      <td>1</td>\n",
       "      <td>0</td>\n",
       "      <td>PC 17599</td>\n",
       "      <td>71.2833</td>\n",
       "      <td>C85</td>\n",
       "      <td>C</td>\n",
       "    </tr>\n",
       "    <tr>\n",
       "      <th>2</th>\n",
       "      <td>3</td>\n",
       "      <td>1</td>\n",
       "      <td>3</td>\n",
       "      <td>Heikkinen, Miss. Laina</td>\n",
       "      <td>female</td>\n",
       "      <td>26.0</td>\n",
       "      <td>0</td>\n",
       "      <td>0</td>\n",
       "      <td>STON/O2. 3101282</td>\n",
       "      <td>7.9250</td>\n",
       "      <td>NaN</td>\n",
       "      <td>S</td>\n",
       "    </tr>\n",
       "    <tr>\n",
       "      <th>3</th>\n",
       "      <td>4</td>\n",
       "      <td>1</td>\n",
       "      <td>1</td>\n",
       "      <td>Futrelle, Mrs. Jacques Heath (Lily May Peel)</td>\n",
       "      <td>female</td>\n",
       "      <td>35.0</td>\n",
       "      <td>1</td>\n",
       "      <td>0</td>\n",
       "      <td>113803</td>\n",
       "      <td>53.1000</td>\n",
       "      <td>C123</td>\n",
       "      <td>S</td>\n",
       "    </tr>\n",
       "    <tr>\n",
       "      <th>4</th>\n",
       "      <td>5</td>\n",
       "      <td>0</td>\n",
       "      <td>3</td>\n",
       "      <td>Allen, Mr. William Henry</td>\n",
       "      <td>male</td>\n",
       "      <td>35.0</td>\n",
       "      <td>0</td>\n",
       "      <td>0</td>\n",
       "      <td>373450</td>\n",
       "      <td>8.0500</td>\n",
       "      <td>NaN</td>\n",
       "      <td>S</td>\n",
       "    </tr>\n",
       "  </tbody>\n",
       "</table>\n",
       "</div>"
      ],
      "text/plain": [
       "   PassengerId  Survived  Pclass  \\\n",
       "0            1         0       3   \n",
       "1            2         1       1   \n",
       "2            3         1       3   \n",
       "3            4         1       1   \n",
       "4            5         0       3   \n",
       "\n",
       "                                                Name     Sex   Age  SibSp  \\\n",
       "0                            Braund, Mr. Owen Harris    male  22.0      1   \n",
       "1  Cumings, Mrs. John Bradley (Florence Briggs Th...  female  38.0      1   \n",
       "2                             Heikkinen, Miss. Laina  female  26.0      0   \n",
       "3       Futrelle, Mrs. Jacques Heath (Lily May Peel)  female  35.0      1   \n",
       "4                           Allen, Mr. William Henry    male  35.0      0   \n",
       "\n",
       "   Parch            Ticket     Fare Cabin Embarked  \n",
       "0      0         A/5 21171   7.2500   NaN        S  \n",
       "1      0          PC 17599  71.2833   C85        C  \n",
       "2      0  STON/O2. 3101282   7.9250   NaN        S  \n",
       "3      0            113803  53.1000  C123        S  \n",
       "4      0            373450   8.0500   NaN        S  "
      ]
     },
     "execution_count": 143,
     "metadata": {},
     "output_type": "execute_result"
    }
   ],
   "source": [
    "train.head() # 데이터의 필드를 확인해보자."
   ]
  },
  {
   "cell_type": "markdown",
   "metadata": {},
   "source": [
    "- **survival Survival** 0 = No, 1 = Yes \n",
    "- **pclass** Ticket class 1 = 1st, 2 = 2nd, 3 = 3rd \n",
    "- **sex** Sex \n",
    "- **Age** Age in years \n",
    "- **sibsp** # of siblings / spouses aboard the Titanic \n",
    "- **parch** # of parents / children aboard the Titanic \n",
    "- **ticket** Ticket number \n",
    "- **fare** Passenger fare \n",
    "- **cabin** Cabin number \n",
    "- **embarked** Port of Embarkation C = Cherbourg, Q = Queenstown, S = Southampton\n",
    "\n",
    "**Variable Notes**\n",
    "- pclass: A proxy for socio-economic status (SES) 1st = Upper 2nd = Middle 3rd = Lower \n",
    "- age: Age is fractional if less than 1. If the age is estimated, is it in the form of xx.5 \n",
    "- sibsp: The dataset defines family relations in this way... \n",
    " - Sibling = brother, sister, stepbrother, stepsister \n",
    " - Spouse = husband, wife (mistresses and fiancés were ignored) \n",
    "- parch: The dataset defines family relations in this way... \n",
    " - Parent = mother, father Child = daughter, son, stepdaughter, stepson Some children travelled only with a nanny, therefore parch=0 for them."
   ]
  },
  {
   "cell_type": "code",
   "execution_count": 144,
   "metadata": {
    "_cell_guid": "8311a09e-c00d-6c3f-5149-61a74a6b8a74",
    "scrolled": true
   },
   "outputs": [
    {
     "name": "stdout",
     "output_type": "stream",
     "text": [
      "Overall Survival Rate: 0.383838383838\n"
     ]
    }
   ],
   "source": [
    "# show the overall survival rate (38.38), as the standard when choosing the fts\n",
    "print('Overall Survival Rate:',train['Survived'].mean())"
   ]
  },
  {
   "cell_type": "markdown",
   "metadata": {
    "_cell_guid": "95804645-44c1-6334-866a-0c0da4f4b7f5"
   },
   "source": [
    "# 2. Data Cleaning and Features Choosing"
   ]
  },
  {
   "cell_type": "code",
   "execution_count": 145,
   "metadata": {
    "_cell_guid": "f46c8089-3caf-250a-4eee-a0908f57514d",
    "collapsed": true
   },
   "outputs": [],
   "source": [
    "# get_dummies function\n",
    "def dummies(col,train,test):\n",
    "    train_dum = pd.get_dummies(train[col]) #get_dummies: column 수량만큼 로우를 생성하고, 로우와 칼럼의 동일인덱스에는 1, 다른 인덱스에는 0을 표기한다. 칼럼 인덱스가 종료될 경우, 초화된 로우 인덱스에 1을 반환한다.\n",
    "    test_dum = pd.get_dummies(test[col])\n",
    "    train = pd.concat([train, train_dum], axis=1)\n",
    "    test = pd.concat([test,test_dum],axis=1)\n",
    "    train.drop(col,axis=1,inplace=True)\n",
    "    test.drop(col,axis=1,inplace=True)\n",
    "    return train, test\n",
    "\n",
    "# get rid of the useless cols\n",
    "dropping = ['PassengerId', 'Name', 'Ticket'] \n",
    "train.drop(dropping,axis=1, inplace=True)\n",
    "test.drop(dropping,axis=1, inplace=True)"
   ]
  },
  {
   "cell_type": "code",
   "execution_count": 146,
   "metadata": {
    "_cell_guid": "b5b2257e-0995-d95b-d514-8905c4da7f4b"
   },
   "outputs": [
    {
     "name": "stdout",
     "output_type": "stream",
     "text": [
      "3    491\n",
      "1    216\n",
      "2    184\n",
      "Name: Pclass, dtype: int64\n"
     ]
    },
    {
     "data": {
      "image/png": "[encoded data removed]",
      "text/plain": [
       "<matplotlib.figure.Figure at 0x118ec2470>"
      ]
     },
     "metadata": {},
     "output_type": "display_data"
    }
   ],
   "source": [
    "#pclass\n",
    "# ensure no na contained\n",
    "print(train.Pclass.value_counts(dropna=False))\n",
    "sns.factorplot('Pclass', 'Survived',data=train, order=[1,2,3])\n",
    "# according to the graph, we found there are huge differences between\n",
    "# each pclass group. keep the ft\n",
    "train, test = dummies('Pclass', train, test)"
   ]
  },
  {
   "cell_type": "code",
   "execution_count": 147,
   "metadata": {
    "_cell_guid": "5634cdbb-ddb8-bb7f-f4bb-b6e4867f35bf"
   },
   "outputs": [
    {
     "name": "stdout",
     "output_type": "stream",
     "text": [
      "male      577\n",
      "female    314\n",
      "Name: Sex, dtype: int64\n"
     ]
    },
    {
     "data": {
      "image/png": "[encoded data removed]",
      "text/plain": [
       "<matplotlib.figure.Figure at 0x1193e1160>"
      ]
     },
     "metadata": {},
     "output_type": "display_data"
    }
   ],
   "source": [
    "# sex\n",
    "print(train.Sex.value_counts(dropna=False))\n",
    "sns.factorplot('Sex','Survived', data=train)\n",
    "# female survival rate is way better than the male\n",
    "train, test = dummies('Sex', train, test)\n",
    "# cos the male survival rate is so low, delete the male col\n",
    "train.drop('male',axis=1,inplace=True)\n",
    "test.drop('male',axis=1,inplace=True)"
   ]
  },
  {
   "cell_type": "code",
   "execution_count": 148,
   "metadata": {
    "scrolled": true
   },
   "outputs": [
    {
     "name": "stdout",
     "output_type": "stream",
     "text": [
      "# of null : 177 \n",
      " mean : 29.6991176471 \n",
      " std : 14.5264973323\n"
     ]
    },
    {
     "data": {
      "text/plain": [
       "array([38, 42, 40, 18, 37, 16, 39, 36, 20, 33, 23, 39, 27, 16, 19, 23, 28,\n",
       "       36, 34, 23, 26, 39, 28, 20, 27, 35, 19, 35, 16, 40, 39, 34, 19, 21,\n",
       "       27, 35, 29, 18, 43, 21, 18, 31, 38, 41, 21, 22, 21, 34, 18, 25, 23,\n",
       "       35, 38, 41, 28, 21, 42, 43, 39, 36, 30, 35, 28, 22, 29, 39, 22, 23,\n",
       "       38, 27, 43, 29, 26, 17, 39, 35, 37, 17, 29, 35, 25, 36, 41, 34, 18,\n",
       "       19])"
      ]
     },
     "execution_count": 148,
     "metadata": {},
     "output_type": "execute_result"
    }
   ],
   "source": [
    "print(\n",
    "'# of null :',train['Age'].isnull().sum(),'\\n',\n",
    "'mean :',train['Age'].mean(),'\\n',\n",
    "'std :',train['Age'].std()\n",
    ")\n",
    "filling"
   ]
  },
  {
   "cell_type": "code",
   "execution_count": 170,
   "metadata": {},
   "outputs": [
    {
     "data": {
      "text/plain": [
       "0"
      ]
     },
     "execution_count": 170,
     "metadata": {},
     "output_type": "execute_result"
    }
   ],
   "source": [
    "#age \n",
    "#dealing the missing data\n",
    "nan_num = train['Age'].isnull().sum() #age 피쳐에서 널값의 합을 구한다.\n",
    "# there are 177 missing value, fill with random int\n",
    "age_mean = train['Age'].mean()#age 피쳐에서 평균을 구한다\n",
    "age_std = train['Age'].std()#age 피쳐에서 표준편차를 구한다.\n",
    "filling = np.random.randint(age_mean-age_std, age_mean+age_std, size=nan_num)#평균 +- 편차범위에서 nan_num갯수만큼의 난수생성.\n",
    "train['Age'][train['Age'].isnull()==True] = filling \n",
    "nan_num = train['Age'].isnull().sum()\n",
    "nan_num"
   ]
  },
  {
   "cell_type": "code",
   "execution_count": 151,
   "metadata": {
    "_cell_guid": "49527b86-4dd8-36c2-e4ed-47f2e432bae8",
    "scrolled": true
   },
   "outputs": [
    {
     "data": {
      "image/png": "[encoded data removed]",
      "text/plain": [
       "<matplotlib.figure.Figure at 0x10be860b8>"
      ]
     },
     "metadata": {},
     "output_type": "display_data"
    }
   ],
   "source": [
    "#age \n",
    "#dealing the missing in `train` df\n",
    "nan_num = train['Age'].isnull().sum() #age 피쳐에서 널값의 합을 구한다.\n",
    "# there are 177 missing value, fill with random int\n",
    "age_mean = train['Age'].mean()#age 피쳐에서 평균을 구한다\n",
    "age_std = train['Age'].std()#age 피쳐에서 표준편차를 구한다.\n",
    "filling = np.random.randint(age_mean-age_std, age_mean+age_std,size=nan_num)#평균 +- 편차범위에서 nan_num갯수만큼의 난수생성.\n",
    "train['Age'][train['Age'].isnull()==True] = filling # 널값인 값만 찾아서 filling으로 채운다.\n",
    "nan_num = train['Age'].isnull().sum() # 널값이 있는지 재확인하면, 0으로 뜬다.\n",
    "\n",
    "# dealing the missing val in `test` df\n",
    "nan_num = test['Age'].isnull().sum()\n",
    "# 86 null\n",
    "age_mean = test['Age'].mean()\n",
    "age_std = test['Age'].std()\n",
    "filling = np.random.randint(age_mean-age_std,age_mean+age_std,size=nan_num)\n",
    "test['Age'][test['Age'].isnull()==True] = filling\n",
    "nan_num = test['Age'].isnull().sum()\n",
    "\n",
    "#look into the age col\n",
    "s = sns.FacetGrid(train,hue='Survived',aspect=3)\n",
    "s.map(sns.kdeplot,'Age',shade=True)\n",
    "s.set(xlim=(0,train['Age'].max()))\n",
    "s.add_legend()\n",
    "\n",
    "# from the graph, we see that the survival rate of children\n",
    "# is higher than other and the 15-30 survival rate is lower\n",
    "def under15(row):\n",
    "    result = 0.0\n",
    "    if row<15:\n",
    "        result = 1.0\n",
    "    return result\n",
    "def young(row):\n",
    "    result = 0.0\n",
    "    if row>=15 and row<30:\n",
    "        result = 1.0\n",
    "    return result\n",
    "\n",
    "train['under15'] = train['Age'].apply(under15)\n",
    "test['under15'] = test['Age'].apply(under15)\n",
    "train['young'] = train['Age'].apply(young)\n",
    "test['young'] = test['Age'].apply(young)\n",
    "\n",
    "train.drop('Age',axis=1,inplace=True)\n",
    "test.drop('Age',axis=1,inplace=True)"
   ]
  },
  {
   "cell_type": "code",
   "execution_count": 152,
   "metadata": {
    "_cell_guid": "541ebae8-13b1-5c2f-365f-2ec3ec827ad7"
   },
   "outputs": [
    {
     "name": "stdout",
     "output_type": "stream",
     "text": [
      "0    608\n",
      "1    209\n",
      "2     28\n",
      "4     18\n",
      "3     16\n",
      "8      7\n",
      "5      5\n",
      "Name: SibSp, dtype: int64\n",
      "0    678\n",
      "1    118\n",
      "2     80\n",
      "5      5\n",
      "3      5\n",
      "4      4\n",
      "6      1\n",
      "Name: Parch, dtype: int64\n"
     ]
    },
    {
     "data": {
      "image/png": "[encoded data removed]",
      "text/plain": [
       "<matplotlib.figure.Figure at 0x10be9aa90>"
      ]
     },
     "metadata": {},
     "output_type": "display_data"
    },
    {
     "data": {
      "image/png": "[encoded data removed]",
      "text/plain": [
       "<matplotlib.figure.Figure at 0x10be76f60>"
      ]
     },
     "metadata": {},
     "output_type": "display_data"
    },
    {
     "data": {
      "image/png": "[encoded data removed]",
      "text/plain": [
       "<matplotlib.figure.Figure at 0x118d2b860>"
      ]
     },
     "metadata": {},
     "output_type": "display_data"
    }
   ],
   "source": [
    "#family\n",
    "# chek\n",
    "print(train['SibSp'].value_counts(dropna=False))\n",
    "print(train['Parch'].value_counts(dropna=False))\n",
    "\n",
    "sns.factorplot('SibSp','Survived',data=train,size=5)\n",
    "sns.factorplot('Parch','Survived',data=train,size=5)\n",
    "\n",
    "'''through the plot, we suggest that with more family member, \n",
    "the survival rate will drop, we can create the new col\n",
    "add up the parch and sibsp to check our theory''' \n",
    "train['family'] = train['SibSp'] + train['Parch']\n",
    "test['family'] = test['SibSp'] + test['Parch']\n",
    "sns.factorplot('family','Survived',data=train,size=5)\n",
    "\n",
    "train.drop(['SibSp','Parch'],axis=1,inplace=True)\n",
    "test.drop(['SibSp','Parch'],axis=1,inplace=True)"
   ]
  },
  {
   "cell_type": "code",
   "execution_count": 153,
   "metadata": {
    "_cell_guid": "ade4acd4-5e83-1894-c424-903afe44cdd4"
   },
   "outputs": [
    {
     "data": {
      "image/png": "[encoded data removed]",
      "text/plain": [
       "<matplotlib.figure.Figure at 0x118ed2630>"
      ]
     },
     "metadata": {},
     "output_type": "display_data"
    }
   ],
   "source": [
    "# fare\n",
    "# checking null, found one in test group. leave it alone til we find out\n",
    "# wether we should use this ft\n",
    "train.Fare.isnull().sum()\n",
    "test.Fare.isnull().sum()\n",
    "\n",
    "sns.factorplot('Survived','Fare',data=train,size=5)\n",
    "#according to the plot, smaller fare has higher survival rate, keep it\n",
    "#dealing the null val in test\n",
    "test['Fare'].fillna(test['Fare'].median(),inplace=True)"
   ]
  },
  {
   "cell_type": "code",
   "execution_count": 154,
   "metadata": {
    "_cell_guid": "9643756d-9325-28bf-3264-0dd107eac145",
    "collapsed": true
   },
   "outputs": [],
   "source": [
    "#Cabin\n",
    "# checking missing val\n",
    "# 687 out of 891 are missing, drop this col\n",
    "train.Cabin.isnull().sum()\n",
    "train.drop('Cabin',axis=1,inplace=True)\n",
    "test.drop('Cabin',axis=1,inplace=True)"
   ]
  },
  {
   "cell_type": "code",
   "execution_count": 155,
   "metadata": {
    "_cell_guid": "567560ea-434c-9919-d66c-c1eb2c7f20ee"
   },
   "outputs": [
    {
     "data": {
      "image/png": "[encoded data removed]",
      "text/plain": [
       "<matplotlib.figure.Figure at 0x11902aef0>"
      ]
     },
     "metadata": {},
     "output_type": "display_data"
    }
   ],
   "source": [
    "#Embark\n",
    "train.Embarked.isnull().sum()\n",
    "# 2 missing value\n",
    "train.Embarked.value_counts()\n",
    "# fill the majority val,'s', into missing val col\n",
    "train['Embarked'].fillna('S',inplace=True)\n",
    "\n",
    "sns.factorplot('Embarked','Survived',data=train,size=6)\n",
    "# c has higher survival rate, drop the other two\n",
    "train,test = dummies('Embarked',train,test)\n",
    "train.drop(['S','Q'],axis=1,inplace=True)\n",
    "test.drop(['S','Q'],axis=1,inplace=True)"
   ]
  },
  {
   "cell_type": "markdown",
   "metadata": {
    "_cell_guid": "6020aa37-3e1d-21d1-18c1-d3e8243e59da"
   },
   "source": [
    "# 3. Model and Prediction "
   ]
  },
  {
   "cell_type": "code",
   "execution_count": 156,
   "metadata": {},
   "outputs": [
    {
     "name": "stdout",
     "output_type": "stream",
     "text": [
      "Requirement already satisfied: sklearn in /Users/pingonfefalas/anaconda/envs/python36/lib/python3.6/site-packages\r\n",
      "Requirement already satisfied: scikit-learn in /Users/pingonfefalas/anaconda/envs/python36/lib/python3.6/site-packages (from sklearn)\r\n"
     ]
    }
   ],
   "source": [
    "!pip install sklearn"
   ]
  },
  {
   "cell_type": "code",
   "execution_count": 157,
   "metadata": {
    "_cell_guid": "9359358e-43e3-30c1-3eb6-5e2b70f59987",
    "collapsed": true
   },
   "outputs": [],
   "source": [
    "# import machine learning libraries\n",
    "from sklearn.linear_model import LogisticRegression\n",
    "from sklearn.svm import SVC, LinearSVC\n",
    "from sklearn.ensemble import RandomForestClassifier,GradientBoostingClassifier\n",
    "from sklearn.neighbors import KNeighborsClassifier\n",
    "from sklearn.naive_bayes import GaussianNB\n",
    "from sklearn.metrics import accuracy_score\n",
    "from sklearn.model_selection import cross_val_score, KFold\n",
    "\n",
    "def modeling(clf,ft,target):#feature를 classfier를 활용하여, y^=target을 산출한다.\n",
    "    acc = cross_val_score(clf,ft,target,cv=kf) # cross_validation_score, kfold로 resampling한다.\n",
    "    acc_lst.append(acc.mean()) # acc를 acc_list에 넣는다. \n",
    "    return \n",
    "    #cross validation : https://www.youtube.com/watch?v=FAP7JOECfEE,'05:04'\n",
    "accuracy = []\n",
    "def ml(ft,target,time):\n",
    "    accuracy.append(acc_lst) # acc_lst를 accuracy에 넣는다.\n",
    "\n",
    "    #logisticregression\n",
    "    logreg = LogisticRegression() # logisticregression을 부른다.\n",
    "    modeling(logreg,ft,target) #feature를 logisticregression을 활용하여, y^=target을 산출한 후, acc_list에 'time'변수명으로 넣는다.\n",
    "    \n",
    "    #RandomForest\n",
    "    rf = RandomForestClassifier(n_estimators=50,min_samples_split=4,min_samples_leaf=2)# RandomForestClassifier 부른다.\n",
    "    modeling(rf,ft,target) #feature를 RandomForestClassifier 활용하여, y^=target을 산출한 후, acc_list에 'time'변수명으로 넣는다.\n",
    "    #https://www.youtube.com/watch?v=FAP7JOECfEE,'02:09'\n",
    "    \n",
    "    #svc\n",
    "    svc = SVC()# logisticregression을 부른다.\n",
    "    modeling(svc,ft,target)#feature를 logisticregression을 활용하여, y^=target을 산출한 후, acc_list에 'time'변수명으로 넣는다.\n",
    "    # svc https://www.youtube.com/watch?v=FAP7JOECfEE,'03:34'     \n",
    "    \n",
    "    #knn\n",
    "    knn = KNeighborsClassifier(n_neighbors = 3)# KNeighborsClassifier을 부른다.\n",
    "    modeling(knn,ft,target)#feature를 KNeighborsClassifier을 활용하여, y^=target을 산출한 후, acc_list에 'time'변수명으로 넣는다.\n",
    "    #https://www.youtube.com/watch?v=FAP7JOECfEE,'01:08' \n",
    "\n",
    "    # naive bayes https://www.youtube.com/watch?v=FAP7JOECfEE,'03:08' \n",
    "\n",
    "\n",
    "    # see the coefficient\n",
    "    logreg.fit(ft,target)\n",
    "    feature = pd.DataFrame(ft.columns)\n",
    "    feature.columns = ['Features']\n",
    "    feature[\"Coefficient Estimate\"] = pd.Series(logreg.coef_[0])\n",
    "    print(feature)\n",
    "    return \n"
   ]
  },
  {
   "cell_type": "code",
   "execution_count": 158,
   "metadata": {
    "_cell_guid": "8ab38d92-85bc-72c4-6091-c365ecd01832",
    "scrolled": true
   },
   "outputs": [
    {
     "name": "stdout",
     "output_type": "stream",
     "text": [
      "  Features  Coefficient Estimate\n",
      "0     Fare              0.004158\n",
      "1        1              0.396091\n",
      "2        2             -0.220083\n",
      "3        3             -1.227581\n",
      "4   female              2.687276\n",
      "5  under15              1.687648\n",
      "6    young              0.092957\n",
      "7   family             -0.309292\n",
      "8        C              0.368145\n"
     ]
    }
   ],
   "source": [
    "# testing no.1, using all the feature\n",
    "train_ft=train.drop('Survived',axis=1) #`survived` feature를 지운 데이터셋을 train용 데이터로 설정한다.\n",
    "train_y=train['Survived'] # `survived`만을 추출하여, y값으로 다루도록 한다.\n",
    "#set kf\n",
    "kf = KFold(n_splits=3,random_state=1)\n",
    "acc_lst = []\n",
    "ml(train_ft,train_y,'test_1') "
   ]
  },
  {
   "cell_type": "code",
   "execution_count": 159,
   "metadata": {
    "_cell_guid": "330ec3f8-463c-0d82-5aea-789ca4ba7782",
    "scrolled": true
   },
   "outputs": [
    {
     "name": "stdout",
     "output_type": "stream",
     "text": [
      "  Features  Coefficient Estimate\n",
      "0     Fare              0.004285\n",
      "1        1              0.386195\n",
      "2        2             -0.207867\n",
      "3        3             -1.202922\n",
      "4   female              2.690898\n",
      "5  under15              1.645827\n",
      "6   family             -0.311682\n",
      "7        C              0.376629\n"
     ]
    }
   ],
   "source": [
    "# testing 2, lose young\n",
    "train_ft_2=train.drop(['Survived','young'],axis=1) #`survived,young` feature를 지운 데이터셋을 train용 데이터로 설정한다.\n",
    "test_2 = test.drop('young',axis=1)#`young` feature를 지운 데이터셋을 test용 데이터로 설정한다.\n",
    "train_ft.head()\n",
    "\n",
    "# ml\n",
    "kf = KFold(n_splits=3,random_state=1)\n",
    "acc_lst=[]\n",
    "ml(train_ft_2,train_y,'test_2') #트레이닝된 "
   ]
  },
  {
   "cell_type": "code",
   "execution_count": 160,
   "metadata": {
    "_cell_guid": "24c370cb-e624-1c44-6dad-52749f4ae00f",
    "scrolled": false
   },
   "outputs": [
    {
     "name": "stdout",
     "output_type": "stream",
     "text": [
      "  Features  Coefficient Estimate\n",
      "0     Fare              0.004920\n",
      "1        1              0.438557\n",
      "2        2             -0.225821\n",
      "3        3             -1.194444\n",
      "4   female              2.694665\n",
      "5  under15              1.679459\n",
      "6   family             -0.322922\n"
     ]
    }
   ],
   "source": [
    "#test3, lose young, c\n",
    "train_ft_3=train.drop(['Survived','young','C'],axis=1)\n",
    "test_3 = test.drop(['young','C'],axis=1)\n",
    "train_ft.head()\n",
    "\n",
    "# ml\n",
    "kf = KFold(n_splits=3,random_state=1)\n",
    "acc_lst = []\n",
    "ml(train_ft_3,train_y,'test_3')"
   ]
  },
  {
   "cell_type": "code",
   "execution_count": 161,
   "metadata": {
    "_cell_guid": "2ea7e76f-9cf9-e4cc-e156-6058d534888b",
    "scrolled": false
   },
   "outputs": [
    {
     "name": "stdout",
     "output_type": "stream",
     "text": [
      "  Features  Coefficient Estimate\n",
      "0        1              0.567835\n",
      "1        2             -0.249468\n",
      "2        3             -1.303930\n",
      "3   female              2.699339\n",
      "4  under15              1.660446\n",
      "5    young              0.118768\n",
      "6   family             -0.269108\n",
      "7        C              0.432010\n"
     ]
    }
   ],
   "source": [
    "# test4, no FARE\n",
    "train_ft_4=train.drop(['Survived','Fare'],axis=1)\n",
    "test_4 = test.drop(['Fare'],axis=1)\n",
    "train_ft.head()\n",
    "# ml\n",
    "kf = KFold(n_splits=3,random_state=1)\n",
    "acc_lst = []\n",
    "ml(train_ft_4,train_y,'test_4')"
   ]
  },
  {
   "cell_type": "code",
   "execution_count": 162,
   "metadata": {
    "_cell_guid": "45142dc9-6146-065c-00a0-9c05d88588ed",
    "scrolled": true
   },
   "outputs": [
    {
     "name": "stdout",
     "output_type": "stream",
     "text": [
      "  Features  Coefficient Estimate\n",
      "0     Fare              0.004762\n",
      "1        1              0.448192\n",
      "2        2             -0.239788\n",
      "3        3             -1.224733\n",
      "4   female              2.691960\n",
      "5  under15              1.730854\n",
      "6    young              0.111827\n",
      "7   family             -0.319998\n"
     ]
    }
   ],
   "source": [
    "# test5, get rid of c \n",
    "train_ft_5=train.drop(['Survived','C'],axis=1)\n",
    "test_5 = test.drop('C',axis=1)\n",
    "\n",
    "# ml\n",
    "kf = KFold(n_splits=3,random_state=1)\n",
    "acc_lst = []\n",
    "ml(train_ft_5,train_y,'test_5')"
   ]
  },
  {
   "cell_type": "code",
   "execution_count": 163,
   "metadata": {
    "_cell_guid": "cc86c101-e612-5dcd-cef7-ae30024a1403",
    "scrolled": true
   },
   "outputs": [
    {
     "name": "stdout",
     "output_type": "stream",
     "text": [
      "  Features  Coefficient Estimate\n",
      "0        1              0.562814\n",
      "1        2             -0.235606\n",
      "2        3             -1.274657\n",
      "3   female              2.702955\n",
      "4  under15              1.604597\n",
      "5   family             -0.270284\n",
      "6        C              0.442288\n"
     ]
    }
   ],
   "source": [
    "# test6, lose Fare and young\n",
    "train_ft_6=train.drop(['Survived','Fare','young'],axis=1)\n",
    "test_6 = test.drop(['Fare','young'],axis=1)\n",
    "train_ft.head()\n",
    "# ml\n",
    "kf = KFold(n_splits=3,random_state=1)\n",
    "acc_lst = []\n",
    "ml(train_ft_6,train_y,'test_6')"
   ]
  },
  {
   "cell_type": "code",
   "execution_count": 164,
   "metadata": {
    "_cell_guid": "88809257-8fe7-3e42-63e4-79adb3ec407f",
    "scrolled": true
   },
   "outputs": [
    {
     "data": {
      "text/html": [
       "<div>\n",
       "<style>\n",
       "    .dataframe thead tr:only-child th {\n",
       "        text-align: right;\n",
       "    }\n",
       "\n",
       "    .dataframe thead th {\n",
       "        text-align: left;\n",
       "    }\n",
       "\n",
       "    .dataframe tbody tr th {\n",
       "        vertical-align: top;\n",
       "    }\n",
       "</style>\n",
       "<table border=\"1\" class=\"dataframe\">\n",
       "  <thead>\n",
       "    <tr style=\"text-align: right;\">\n",
       "      <th></th>\n",
       "      <th>logistic</th>\n",
       "      <th>rf</th>\n",
       "      <th>svc</th>\n",
       "      <th>knn</th>\n",
       "    </tr>\n",
       "  </thead>\n",
       "  <tbody>\n",
       "    <tr>\n",
       "      <th>test1</th>\n",
       "      <td>0.795735</td>\n",
       "      <td>0.819304</td>\n",
       "      <td>0.748597</td>\n",
       "      <td>0.748597</td>\n",
       "    </tr>\n",
       "    <tr>\n",
       "      <th>test2</th>\n",
       "      <td>0.791246</td>\n",
       "      <td>0.811448</td>\n",
       "      <td>0.764310</td>\n",
       "      <td>0.757576</td>\n",
       "    </tr>\n",
       "    <tr>\n",
       "      <th>test3</th>\n",
       "      <td>0.796857</td>\n",
       "      <td>0.817059</td>\n",
       "      <td>0.763187</td>\n",
       "      <td>0.757576</td>\n",
       "    </tr>\n",
       "    <tr>\n",
       "      <th>test4</th>\n",
       "      <td>0.794613</td>\n",
       "      <td>0.817059</td>\n",
       "      <td>0.831650</td>\n",
       "      <td>0.781145</td>\n",
       "    </tr>\n",
       "    <tr>\n",
       "      <th>test5</th>\n",
       "      <td>0.797980</td>\n",
       "      <td>0.803591</td>\n",
       "      <td>0.762065</td>\n",
       "      <td>0.737374</td>\n",
       "    </tr>\n",
       "    <tr>\n",
       "      <th>test6</th>\n",
       "      <td>0.790123</td>\n",
       "      <td>0.813692</td>\n",
       "      <td>0.831650</td>\n",
       "      <td>0.775533</td>\n",
       "    </tr>\n",
       "  </tbody>\n",
       "</table>\n",
       "</div>"
      ],
      "text/plain": [
       "       logistic        rf       svc       knn\n",
       "test1  0.795735  0.819304  0.748597  0.748597\n",
       "test2  0.791246  0.811448  0.764310  0.757576\n",
       "test3  0.796857  0.817059  0.763187  0.757576\n",
       "test4  0.794613  0.817059  0.831650  0.781145\n",
       "test5  0.797980  0.803591  0.762065  0.737374\n",
       "test6  0.790123  0.813692  0.831650  0.775533"
      ]
     },
     "execution_count": 164,
     "metadata": {},
     "output_type": "execute_result"
    }
   ],
   "source": [
    "accuracy_df=pd.DataFrame(data=accuracy,\n",
    "                         index=['test1','test2','test3','test4','test5','test6'],\n",
    "                         columns=['logistic','rf','svc','knn'])\n",
    "accuracy_df"
   ]
  },
  {
   "cell_type": "markdown",
   "metadata": {},
   "source": [
    "[workflow](https://www.dropbox.com/s/wv13tgeeizyimer/%EC%8A%A4%ED%81%AC%EB%A6%B0%EC%83%B7%202017-11-15%2019.02.31.png?dl=0)"
   ]
  },
  {
   "cell_type": "markdown",
   "metadata": {},
   "source": [
    "- [fit description](https://goo.gl/eKvm8e)\n",
    "- [score description](https://goo.gl/cuKj99)\n",
    "- [predict description](https://goo.gl/fnY7CF)"
   ]
  },
  {
   "cell_type": "code",
   "execution_count": 165,
   "metadata": {
    "_cell_guid": "5ecb8b71-d34a-d832-5ec8-0ed364e5e35a",
    "scrolled": true
   },
   "outputs": [
    {
     "name": "stdout",
     "output_type": "stream",
     "text": [
      "0.832772166105\n"
     ]
    }
   ],
   "source": [
    "'''\n",
    "According to the accuracy chart, 'features test4 with svc'\n",
    "got best performance\n",
    "'''  \n",
    "#test4 svc as submission\n",
    "svc = SVC() #svc를 부른다.\n",
    "svc.fit(train_ft_4,train_y) #train_feature4와 train_y를 fit한다. https://goo.gl/eKvm8e\n",
    "print(svc.score(train_ft_4,train_y)) #적용 결과를 실제값과 비교한 후, 일치도를 %로 표현한다. https://goo.gl/cuKj99\n",
    "\n",
    "\n",
    "test = pd.read_csv('test.csv')\n",
    "\n",
    "svc_pred = svc.predict(test_4) #svc를 test4에 적용하여 결과를 예측한다. https://goo.gl/fnY7CF\n",
    "submission = pd.DataFrame({\n",
    "        \"PassengerId\": test[\"PassengerId\"],\n",
    "        \"Survived\": svc_pred\n",
    "    })\n",
    "#submission.to_csv(\"kaggle.csv\", index=False)"
   ]
  },
  {
   "cell_type": "code",
   "execution_count": 167,
   "metadata": {
    "scrolled": true
   },
   "outputs": [
    {
     "ename": "AttributeError",
     "evalue": "'Series' object has no attribute '_repr_html_'",
     "output_type": "error",
     "traceback": [
      "\u001b[0;31m---------------------------------------------------------------------------\u001b[0m",
      "\u001b[0;31mAttributeError\u001b[0m                            Traceback (most recent call last)",
      "\u001b[0;32m~/anaconda/envs/python36/lib/python3.6/site-packages/IPython/core/formatters.py\u001b[0m in \u001b[0;36m__call__\u001b[0;34m(self, obj)\u001b[0m\n\u001b[1;32m    334\u001b[0m             \u001b[0mmethod\u001b[0m \u001b[0;34m=\u001b[0m \u001b[0mget_real_method\u001b[0m\u001b[0;34m(\u001b[0m\u001b[0mobj\u001b[0m\u001b[0;34m,\u001b[0m \u001b[0mself\u001b[0m\u001b[0;34m.\u001b[0m\u001b[0mprint_method\u001b[0m\u001b[0;34m)\u001b[0m\u001b[0;34m\u001b[0m\u001b[0m\n\u001b[1;32m    335\u001b[0m             \u001b[0;32mif\u001b[0m \u001b[0mmethod\u001b[0m \u001b[0;32mis\u001b[0m \u001b[0;32mnot\u001b[0m \u001b[0;32mNone\u001b[0m\u001b[0;34m:\u001b[0m\u001b[0;34m\u001b[0m\u001b[0m\n\u001b[0;32m--> 336\u001b[0;31m                 \u001b[0;32mreturn\u001b[0m \u001b[0mmethod\u001b[0m\u001b[0;34m(\u001b[0m\u001b[0;34m)\u001b[0m\u001b[0;34m\u001b[0m\u001b[0m\n\u001b[0m\u001b[1;32m    337\u001b[0m             \u001b[0;32mreturn\u001b[0m \u001b[0;32mNone\u001b[0m\u001b[0;34m\u001b[0m\u001b[0m\n\u001b[1;32m    338\u001b[0m         \u001b[0;32melse\u001b[0m\u001b[0;34m:\u001b[0m\u001b[0;34m\u001b[0m\u001b[0m\n",
      "\u001b[0;32m<ipython-input-167-1b74a08a7ff5>\u001b[0m in \u001b[0;36m_repr_html_\u001b[0;34m(self)\u001b[0m\n\u001b[1;32m      9\u001b[0m     \u001b[0;32mdef\u001b[0m \u001b[0m_repr_html_\u001b[0m\u001b[0;34m(\u001b[0m\u001b[0mself\u001b[0m\u001b[0;34m)\u001b[0m\u001b[0;34m:\u001b[0m\u001b[0;34m\u001b[0m\u001b[0m\n\u001b[1;32m     10\u001b[0m         return '\\n'.join(self.template.format(a, eval(a)._repr_html_())\n\u001b[0;32m---> 11\u001b[0;31m                          for a in self.args)\n\u001b[0m\u001b[1;32m     12\u001b[0m \u001b[0;34m\u001b[0m\u001b[0m\n\u001b[1;32m     13\u001b[0m     \u001b[0;32mdef\u001b[0m \u001b[0m__repr__\u001b[0m\u001b[0;34m(\u001b[0m\u001b[0mself\u001b[0m\u001b[0;34m)\u001b[0m\u001b[0;34m:\u001b[0m\u001b[0;34m\u001b[0m\u001b[0m\n",
      "\u001b[0;32m<ipython-input-167-1b74a08a7ff5>\u001b[0m in \u001b[0;36m<genexpr>\u001b[0;34m(.0)\u001b[0m\n\u001b[1;32m      9\u001b[0m     \u001b[0;32mdef\u001b[0m \u001b[0m_repr_html_\u001b[0m\u001b[0;34m(\u001b[0m\u001b[0mself\u001b[0m\u001b[0;34m)\u001b[0m\u001b[0;34m:\u001b[0m\u001b[0;34m\u001b[0m\u001b[0m\n\u001b[1;32m     10\u001b[0m         return '\\n'.join(self.template.format(a, eval(a)._repr_html_())\n\u001b[0;32m---> 11\u001b[0;31m                          for a in self.args)\n\u001b[0m\u001b[1;32m     12\u001b[0m \u001b[0;34m\u001b[0m\u001b[0m\n\u001b[1;32m     13\u001b[0m     \u001b[0;32mdef\u001b[0m \u001b[0m__repr__\u001b[0m\u001b[0;34m(\u001b[0m\u001b[0mself\u001b[0m\u001b[0;34m)\u001b[0m\u001b[0;34m:\u001b[0m\u001b[0;34m\u001b[0m\u001b[0m\n",
      "\u001b[0;32m~/anaconda/envs/python36/lib/python3.6/site-packages/pandas/core/generic.py\u001b[0m in \u001b[0;36m__getattr__\u001b[0;34m(self, name)\u001b[0m\n\u001b[1;32m   3079\u001b[0m             \u001b[0;32mif\u001b[0m \u001b[0mname\u001b[0m \u001b[0;32min\u001b[0m \u001b[0mself\u001b[0m\u001b[0;34m.\u001b[0m\u001b[0m_info_axis\u001b[0m\u001b[0;34m:\u001b[0m\u001b[0;34m\u001b[0m\u001b[0m\n\u001b[1;32m   3080\u001b[0m                 \u001b[0;32mreturn\u001b[0m \u001b[0mself\u001b[0m\u001b[0;34m[\u001b[0m\u001b[0mname\u001b[0m\u001b[0;34m]\u001b[0m\u001b[0;34m\u001b[0m\u001b[0m\n\u001b[0;32m-> 3081\u001b[0;31m             \u001b[0;32mreturn\u001b[0m \u001b[0mobject\u001b[0m\u001b[0;34m.\u001b[0m\u001b[0m__getattribute__\u001b[0m\u001b[0;34m(\u001b[0m\u001b[0mself\u001b[0m\u001b[0;34m,\u001b[0m \u001b[0mname\u001b[0m\u001b[0;34m)\u001b[0m\u001b[0;34m\u001b[0m\u001b[0m\n\u001b[0m\u001b[1;32m   3082\u001b[0m \u001b[0;34m\u001b[0m\u001b[0m\n\u001b[1;32m   3083\u001b[0m     \u001b[0;32mdef\u001b[0m \u001b[0m__setattr__\u001b[0m\u001b[0;34m(\u001b[0m\u001b[0mself\u001b[0m\u001b[0;34m,\u001b[0m \u001b[0mname\u001b[0m\u001b[0;34m,\u001b[0m \u001b[0mvalue\u001b[0m\u001b[0;34m)\u001b[0m\u001b[0;34m:\u001b[0m\u001b[0;34m\u001b[0m\u001b[0m\n",
      "\u001b[0;31mAttributeError\u001b[0m: 'Series' object has no attribute '_repr_html_'"
     ]
    },
    {
     "data": {
      "text/plain": [
       "train_ft_4\n",
       "     1  2  3  female  under15  young  family  C\n",
       "0    0  0  1       0      0.0    1.0       1  0\n",
       "1    1  0  0       1      0.0    0.0       1  1\n",
       "2    0  0  1       1      0.0    1.0       0  0\n",
       "3    1  0  0       1      0.0    0.0       1  0\n",
       "4    0  0  1       0      0.0    0.0       0  0\n",
       "5    0  0  1       0      0.0    0.0       0  0\n",
       "6    1  0  0       0      0.0    0.0       0  0\n",
       "7    0  0  1       0      1.0    0.0       4  0\n",
       "8    0  0  1       1      0.0    1.0       2  0\n",
       "9    0  1  0       1      1.0    0.0       1  1\n",
       "10   0  0  1       1      1.0    0.0       2  0\n",
       "11   1  0  0       1      0.0    0.0       0  0\n",
       "12   0  0  1       0      0.0    1.0       0  0\n",
       "13   0  0  1       0      0.0    0.0       6  0\n",
       "14   0  0  1       1      1.0    0.0       0  0\n",
       "15   0  1  0       1      0.0    0.0       0  0\n",
       "16   0  0  1       0      1.0    0.0       5  0\n",
       "17   0  1  0       0      0.0    1.0       0  0\n",
       "18   0  0  1       1      0.0    0.0       1  0\n",
       "19   0  0  1       1      0.0    0.0       0  1\n",
       "20   0  1  0       0      0.0    0.0       0  0\n",
       "21   0  1  0       0      0.0    0.0       0  0\n",
       "22   0  0  1       1      0.0    1.0       0  0\n",
       "23   1  0  0       0      0.0    1.0       0  0\n",
       "24   0  0  1       1      1.0    0.0       4  0\n",
       "25   0  0  1       1      0.0    0.0       6  0\n",
       "26   0  0  1       0      0.0    0.0       0  1\n",
       "27   1  0  0       0      0.0    1.0       5  0\n",
       "28   0  0  1       1      0.0    0.0       0  0\n",
       "29   0  0  1       0      0.0    1.0       0  0\n",
       "..  .. .. ..     ...      ...    ...     ... ..\n",
       "861  0  1  0       0      0.0    1.0       1  0\n",
       "862  1  0  0       1      0.0    0.0       0  0\n",
       "863  0  0  1       1      0.0    0.0      10  0\n",
       "864  0  1  0       0      0.0    1.0       0  0\n",
       "865  0  1  0       1      0.0    0.0       0  0\n",
       "866  0  1  0       1      0.0    1.0       1  1\n",
       "867  1  0  0       0      0.0    0.0       0  0\n",
       "868  0  0  1       0      0.0    0.0       0  0\n",
       "869  0  0  1       0      1.0    0.0       2  0\n",
       "870  0  0  1       0      0.0    1.0       0  0\n",
       "871  1  0  0       1      0.0    0.0       2  0\n",
       "872  1  0  0       0      0.0    0.0       0  0\n",
       "873  0  0  1       0      0.0    0.0       0  0\n",
       "874  0  1  0       1      0.0    1.0       1  1\n",
       "875  0  0  1       1      0.0    1.0       0  1\n",
       "876  0  0  1       0      0.0    1.0       0  0\n",
       "877  0  0  1       0      0.0    1.0       0  0\n",
       "878  0  0  1       0      0.0    1.0       0  0\n",
       "879  1  0  0       1      0.0    0.0       1  1\n",
       "880  0  1  0       1      0.0    1.0       1  0\n",
       "881  0  0  1       0      0.0    0.0       0  0\n",
       "882  0  0  1       1      0.0    1.0       0  0\n",
       "883  0  1  0       0      0.0    1.0       0  0\n",
       "884  0  0  1       0      0.0    1.0       0  0\n",
       "885  0  0  1       1      0.0    0.0       5  0\n",
       "886  0  1  0       0      0.0    1.0       0  0\n",
       "887  1  0  0       1      0.0    1.0       0  0\n",
       "888  0  0  1       1      0.0    0.0       3  0\n",
       "889  1  0  0       0      0.0    1.0       0  1\n",
       "890  0  0  1       0      0.0    0.0       0  0\n",
       "\n",
       "[891 rows x 8 columns]\n",
       "\n",
       "train_y\n",
       "0      0\n",
       "1      1\n",
       "2      1\n",
       "3      1\n",
       "4      0\n",
       "5      0\n",
       "6      0\n",
       "7      0\n",
       "8      1\n",
       "9      1\n",
       "10     1\n",
       "11     1\n",
       "12     0\n",
       "13     0\n",
       "14     0\n",
       "15     1\n",
       "16     0\n",
       "17     1\n",
       "18     0\n",
       "19     1\n",
       "20     0\n",
       "21     1\n",
       "22     1\n",
       "23     1\n",
       "24     0\n",
       "25     1\n",
       "26     0\n",
       "27     0\n",
       "28     1\n",
       "29     0\n",
       "      ..\n",
       "861    0\n",
       "862    1\n",
       "863    0\n",
       "864    0\n",
       "865    1\n",
       "866    1\n",
       "867    0\n",
       "868    0\n",
       "869    1\n",
       "870    0\n",
       "871    1\n",
       "872    0\n",
       "873    0\n",
       "874    1\n",
       "875    1\n",
       "876    0\n",
       "877    0\n",
       "878    0\n",
       "879    1\n",
       "880    1\n",
       "881    0\n",
       "882    0\n",
       "883    0\n",
       "884    0\n",
       "885    0\n",
       "886    0\n",
       "887    1\n",
       "888    0\n",
       "889    1\n",
       "890    0\n",
       "Name: Survived, Length: 891, dtype: int64\n",
       "\n",
       "submission\n",
       "     PassengerId  Survived\n",
       "0            892         0\n",
       "1            893         1\n",
       "2            894         0\n",
       "3            895         0\n",
       "4            896         1\n",
       "5            897         0\n",
       "6            898         1\n",
       "7            899         0\n",
       "8            900         1\n",
       "9            901         0\n",
       "10           902         0\n",
       "11           903         0\n",
       "12           904         1\n",
       "13           905         0\n",
       "14           906         1\n",
       "15           907         1\n",
       "16           908         0\n",
       "17           909         0\n",
       "18           910         1\n",
       "19           911         1\n",
       "20           912         0\n",
       "21           913         1\n",
       "22           914         1\n",
       "23           915         0\n",
       "24           916         1\n",
       "25           917         0\n",
       "26           918         1\n",
       "27           919         0\n",
       "28           920         0\n",
       "29           921         0\n",
       "..           ...       ...\n",
       "388         1280         0\n",
       "389         1281         0\n",
       "390         1282         0\n",
       "391         1283         1\n",
       "392         1284         1\n",
       "393         1285         0\n",
       "394         1286         0\n",
       "395         1287         1\n",
       "396         1288         0\n",
       "397         1289         1\n",
       "398         1290         0\n",
       "399         1291         0\n",
       "400         1292         1\n",
       "401         1293         0\n",
       "402         1294         1\n",
       "403         1295         0\n",
       "404         1296         0\n",
       "405         1297         0\n",
       "406         1298         0\n",
       "407         1299         0\n",
       "408         1300         1\n",
       "409         1301         1\n",
       "410         1302         1\n",
       "411         1303         1\n",
       "412         1304         1\n",
       "413         1305         0\n",
       "414         1306         1\n",
       "415         1307         0\n",
       "416         1308         0\n",
       "417         1309         0\n",
       "\n",
       "[418 rows x 2 columns]"
      ]
     },
     "execution_count": 167,
     "metadata": {},
     "output_type": "execute_result"
    }
   ],
   "source": [
    "class display(object):\n",
    "    \"\"\"Display HTML representation of multiple objects\"\"\"\n",
    "    template = \"\"\"<div style=\"float: left; padding: 10px;\">\n",
    "    <p style='font-family:\"Courier New\", Courier, monospace'>{0}</p>{1}\n",
    "    </div>\"\"\"\n",
    "    def __init__(self, *args):\n",
    "        self.args = args\n",
    "        \n",
    "    def _repr_html_(self):\n",
    "        return '\\n'.join(self.template.format(a, eval(a)._repr_html_())\n",
    "                         for a in self.args)\n",
    "    \n",
    "    def __repr__(self):\n",
    "        return '\\n\\n'.join(a + '\\n' + repr(eval(a))\n",
    "                           for a in self.args)\n",
    "display('train_ft_4','train_y','submission')"
   ]
  }
 ],
 "metadata": {
  "_change_revision": 1,
  "_is_fork": false,
  "kernelspec": {
   "display_name": "Python 3",
   "language": "python",
   "name": "python3"
  },
  "language_info": {
   "codemirror_mode": {
    "name": "ipython",
    "version": 3
   },
   "file_extension": ".py",
   "mimetype": "text/x-python",
   "name": "python",
   "nbconvert_exporter": "python",
   "pygments_lexer": "ipython3",
   "version": "3.6.2"
  }
 },
 "nbformat": 4,
 "nbformat_minor": 1
}
